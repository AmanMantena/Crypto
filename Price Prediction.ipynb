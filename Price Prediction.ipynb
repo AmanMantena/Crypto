{
 "cells": [
  {
   "cell_type": "code",
   "execution_count": 1,
   "metadata": {},
   "outputs": [],
   "source": [
    "import pandas as pd\n",
    "import numpy as np\n",
    "import matplotlib.pyplot as plt\n",
    "import seaborn as sns\n",
    "import warnings"
   ]
  },
  {
   "cell_type": "code",
   "execution_count": 2,
   "metadata": {},
   "outputs": [],
   "source": [
    "#Defining functions.\n",
    "import requests\n",
    "\n",
    "#Extracts a pandas dataframe from json format of API.\n",
    "def get_data(url):\n",
    "    request = requests.get(url)\n",
    "    text = request.json()['Data']\n",
    "    data = pd.DataFrame(text)\n",
    "    return data\n",
    "\n",
    "#Downloading complete history from cryptocompare.\n",
    "def history(time, symbol):\n",
    "    if time not in ['minute', 'hour', 'day']:\n",
    "        raise ValueError('Invalid time interval.')\n",
    "\n",
    "    url = 'https://min-api.cryptocompare.com/data/histo' + time + '?fsym=' + symbol + '&tsym=USD&limit=2000'\n",
    "    data = get_data(url)  \n",
    "    while data['open'][0] != 0:\n",
    "        last = data['time'][0]\n",
    "        old_data = get_data(url + '&toTs=' + str(last))\n",
    "        data = old_data.append(data)\n",
    "        data.reset_index(inplace=True, drop=True)\n",
    "        \n",
    "    data = data.drop(data[data['open'] == 0].index)  \n",
    "    return data\n",
    "\n",
    "#Get array of prices.\n",
    "def price(time, symbol, limit=None):\n",
    "    hist = history(time, symbol)\n",
    "    full = np.array(hist['open'].values)\n",
    "    \n",
    "    if limit:\n",
    "        exclude = len(full) - limit\n",
    "    else:\n",
    "        exclude = None\n",
    "        \n",
    "    return full[exclude:]"
   ]
  },
  {
   "cell_type": "code",
   "execution_count": 3,
   "metadata": {},
   "outputs": [],
   "source": [
    "array = price('hour', 'BTC', 2000)"
   ]
  },
  {
   "cell_type": "code",
   "execution_count": 4,
   "metadata": {},
   "outputs": [
    {
     "name": "stdout",
     "output_type": "stream",
     "text": [
      "The 95% confidence interval for the next price is 3732.7694697871166 ± 57.05481036561356\n"
     ]
    }
   ],
   "source": [
    "#ARIMA \n",
    "from statsmodels.tsa.arima_model import ARIMA\n",
    "from sklearn import metrics \n",
    "\n",
    "model_arima = ARIMA(array, (5, 1, 1))\n",
    "model_arima_fit = model_arima.fit(disp=0)\n",
    "forecast = model_arima_fit.forecast()\n",
    "pred_arima, ci_95 = str(forecast[0][0]), str(1.96*forecast[1][0])\n",
    "\n",
    "print(\"The 95% confidence interval for the next price is \" + pred_arima + \" ± \" + ci_95)"
   ]
  },
  {
   "cell_type": "code",
   "execution_count": 5,
   "metadata": {},
   "outputs": [
    {
     "name": "stdout",
     "output_type": "stream",
     "text": [
      "The neural network predicts the next price to be 3742.0032\n"
     ]
    }
   ],
   "source": [
    "#RNN\n",
    "from sklearn.preprocessing import MinMaxScaler\n",
    "from tensorflow.keras.preprocessing.sequence import TimeseriesGenerator\n",
    "from tensorflow.keras.models import Sequential\n",
    "from tensorflow.keras.layers import LSTM, Dropout, Flatten, Dense\n",
    "\n",
    "scaler = MinMaxScaler(feature_range = (-1, 1))\n",
    "series_scaled = scaler.fit_transform(array.reshape(-1, 1))\n",
    "\n",
    "#Enter number of previous values to use and batch size. \n",
    "n = 4\n",
    "b = 8\n",
    "time_series = TimeseriesGenerator(series_scaled, series_scaled, length=n, batch_size=b)\n",
    "\n",
    "model_rnn = Sequential()\n",
    "model_rnn.add(LSTM(256, input_shape=(n, 1)))\n",
    "model_rnn.add(Dense(1))\n",
    "model_rnn.compile(optimizer='sgd', loss='mse')\n",
    "model_rnn.fit_generator(time_series, steps_per_epoch=len(series_scaled)//b, epochs=10, verbose=0)\n",
    "\n",
    "last = series_scaled[-n:].reshape(1, n, 1)\n",
    "pred = model_rnn.predict(last)\n",
    "value = scaler.inverse_transform(pred)[0][0]\n",
    "\n",
    "print(\"The neural network predicts the next price to be \" + str(value))"
   ]
  }
 ],
 "metadata": {
  "kernelspec": {
   "display_name": "Python 3",
   "language": "python",
   "name": "python3"
  },
  "language_info": {
   "codemirror_mode": {
    "name": "ipython",
    "version": 3
   },
   "file_extension": ".py",
   "mimetype": "text/x-python",
   "name": "python",
   "nbconvert_exporter": "python",
   "pygments_lexer": "ipython3",
   "version": "3.6.6"
  }
 },
 "nbformat": 4,
 "nbformat_minor": 2
}
