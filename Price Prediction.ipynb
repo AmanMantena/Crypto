{
 "cells": [
  {
   "cell_type": "code",
   "execution_count": 1,
   "metadata": {},
   "outputs": [],
   "source": [
    "import pandas as pd\n",
    "import numpy as np\n",
    "import matplotlib.pyplot as plt\n",
    "import seaborn as sns\n",
    "import warnings"
   ]
  },
  {
   "cell_type": "code",
   "execution_count": 2,
   "metadata": {},
   "outputs": [],
   "source": [
    "#Downloading price data.\n",
    "import requests\n",
    "import io\n",
    "from datetime import datetime\n",
    "\n",
    "interval = '1m'\n",
    "symbol = 'BTCUSDT'\n",
    "\n",
    "if interval not in ['1m', '3m', '5m', '15m', '30m', '1h', '2h', '4h', '6h', '8h', '12h', '1d', '3d', '1w', '1M']:\n",
    "    raise ValueError('Invalid time interval.')\n",
    "     \n",
    "request = requests.get('https://api.binance.com/api/v1/klines?symbol=' + symbol + '&interval=' + interval)\n",
    "\n",
    "data = pd.read_json(io.StringIO(request.text))\n",
    "data.columns =  ['Open Time', 'Open', 'High', 'Low', 'Close', 'Volume', 'Close Time', 'Quote Asset Volume',\n",
    "                 'Number of Trades', 'Taker Buy Base Asset Volume', 'Taker Buy Quote Asset Volume', 'Ignore']\n",
    "data = data[['Open Time', 'Open']]\n",
    "data['Open Time'] = data['Open Time'] / 1000\n",
    "data['Open Time'] = data['Open Time'].apply(datetime.fromtimestamp)\n",
    "\n",
    "series = pd.Series(data['Open'].values, index = data['Open Time'])"
   ]
  },
  {
   "cell_type": "code",
   "execution_count": 3,
   "metadata": {},
   "outputs": [
    {
     "name": "stdout",
     "output_type": "stream",
     "text": [
      "The 95% confidence interval for the next price is 6617.135529171889 ± 4.444893248399312\n"
     ]
    }
   ],
   "source": [
    "#ARIMA \n",
    "from statsmodels.tsa.arima_model import ARIMA\n",
    "from sklearn import metrics \n",
    "warnings.filterwarnings(\"ignore\", message =\n",
    "                        \"No frequency information was provided, so inferred frequency T will be used\")\n",
    "\n",
    "model_arima = ARIMA(series, (5, 1, 1))\n",
    "model_arima_fit = model_arima.fit(disp = 0)\n",
    "forecast = model_arima_fit.forecast()\n",
    "pred_arima, ci_95 = str(forecast[0][0]), str(1.96*forecast[1][0])\n",
    "\n",
    "print(\"The 95% confidence interval for the next price is \" + pred_arima + \" ± \" + ci_95)"
   ]
  },
  {
   "cell_type": "code",
   "execution_count": 4,
   "metadata": {},
   "outputs": [
    {
     "name": "stdout",
     "output_type": "stream",
     "text": [
      "The neural network predicts the next price to be 6616.754\n"
     ]
    }
   ],
   "source": [
    "#RNN\n",
    "from tensorflow.keras.models import Sequential\n",
    "from tensorflow.keras.layers import LSTM, Dense, Dropout\n",
    "from sklearn.preprocessing import MinMaxScaler\n",
    "\n",
    "scaler = MinMaxScaler(feature_range = (-1, 1))\n",
    "series_scaled = scaler.fit_transform(series.values.reshape(500, 1))\n",
    "\n",
    "df = pd.DataFrame(series_scaled)\n",
    "df[1] = df[0].shift(-1)\n",
    "df.dropna(inplace = True)\n",
    "\n",
    "X, y = df[0], df[1]\n",
    "X, y = X.values.reshape(499, 1, 1), y.values.reshape(499, 1)\n",
    "X_test = series_scaled[-1:].reshape(1,1,1)\n",
    "\n",
    "model_rnn = Sequential()\n",
    "model_rnn.add(LSTM(256, return_sequences = True, input_shape = (1, 1)))\n",
    "model_rnn.add(Dropout(0.5))\n",
    "model_rnn.add(LSTM(256))\n",
    "model_rnn.add(Dropout(0.5))\n",
    "model_rnn.add(Dense(1))\n",
    "model_rnn.compile(loss = 'mse', optimizer = 'adam')\n",
    "\n",
    "model_rnn.fit(X, y, batch_size = 6, epochs = 12, shuffle = False, validation_split = 0.1, verbose = False)\n",
    "pred_rnn_scaled = model_rnn.predict(X_test)\n",
    "pred_unscaled = scaler.inverse_transform(pred_rnn_scaled)\n",
    "pred_rnn = str(pred_unscaled[0][0])\n",
    "\n",
    "print(\"The neural network predicts the next price to be \" + pred_rnn)"
   ]
  }
 ],
 "metadata": {
  "kernelspec": {
   "display_name": "Python 3",
   "language": "python",
   "name": "python3"
  },
  "language_info": {
   "codemirror_mode": {
    "name": "ipython",
    "version": 3
   },
   "file_extension": ".py",
   "mimetype": "text/x-python",
   "name": "python",
   "nbconvert_exporter": "python",
   "pygments_lexer": "ipython3",
   "version": "3.6.6"
  }
 },
 "nbformat": 4,
 "nbformat_minor": 2
}
